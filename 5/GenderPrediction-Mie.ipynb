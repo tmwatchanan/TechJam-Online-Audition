{
 "cells": [
  {
   "cell_type": "code",
   "execution_count": 37,
   "metadata": {
    "ExecuteTime": {
     "end_time": "2017-07-29T06:05:58.565957Z",
     "start_time": "2017-07-29T06:05:58.010958Z"
    },
    "collapsed": true
   },
   "outputs": [],
   "source": [
    "import numpy as np\n",
    "import pandas as pd\n",
    "import matplotlib.pyplot as plt\n",
    "import seaborn as sns\n",
    "%matplotlib inline\n",
    "\n",
    "# Beautiful format for float type\n",
    "pd.set_option('display.float_format', lambda x: '%.3f' % x)\n",
    "\n",
    "credit_card_txn = pd.read_csv('tj_05_credit_card_transaction.csv')\n",
    "data_training = pd.read_csv('tj_05_training.csv', header=None, names=[\"card_no\", \"gender\"])\n",
    "data_test = pd.read_csv('tj_05_test.csv', header=None, names=[\"card_no\"])"
   ]
  },
  {
   "cell_type": "code",
   "execution_count": 38,
   "metadata": {
    "ExecuteTime": {
     "end_time": "2017-07-29T06:05:58.921457Z",
     "start_time": "2017-07-29T06:05:58.566958Z"
    }
   },
   "outputs": [
    {
     "name": "stdout",
     "output_type": "stream",
     "text": [
      "credit_card_txn shape = (893761, 6) \n",
      "\n",
      "<class 'pandas.core.frame.DataFrame'>\n",
      "RangeIndex: 893761 entries, 0 to 893760\n",
      "Data columns (total 6 columns):\n",
      "card_no         893761 non-null int64\n",
      "txn_date        884013 non-null object\n",
      "txn_hour        884013 non-null float64\n",
      "txn_amount      893761 non-null float64\n",
      "mer_cat_code    884013 non-null float64\n",
      "mer_id          893761 non-null int64\n",
      "dtypes: float64(3), int64(2), object(1)\n",
      "memory usage: 40.9+ MB\n"
     ]
    },
    {
     "data": {
      "text/html": [
       "<div>\n",
       "<style>\n",
       "    .dataframe thead tr:only-child th {\n",
       "        text-align: right;\n",
       "    }\n",
       "\n",
       "    .dataframe thead th {\n",
       "        text-align: left;\n",
       "    }\n",
       "\n",
       "    .dataframe tbody tr th {\n",
       "        vertical-align: top;\n",
       "    }\n",
       "</style>\n",
       "<table border=\"1\" class=\"dataframe\">\n",
       "  <thead>\n",
       "    <tr style=\"text-align: right;\">\n",
       "      <th></th>\n",
       "      <th>card_no</th>\n",
       "      <th>txn_hour</th>\n",
       "      <th>txn_amount</th>\n",
       "      <th>mer_cat_code</th>\n",
       "      <th>mer_id</th>\n",
       "    </tr>\n",
       "  </thead>\n",
       "  <tbody>\n",
       "    <tr>\n",
       "      <th>count</th>\n",
       "      <td>893761.000</td>\n",
       "      <td>884013.000</td>\n",
       "      <td>893761.000</td>\n",
       "      <td>884013.000</td>\n",
       "      <td>893761.000</td>\n",
       "    </tr>\n",
       "    <tr>\n",
       "      <th>mean</th>\n",
       "      <td>1234000000030626.250</td>\n",
       "      <td>14.466</td>\n",
       "      <td>1694.535</td>\n",
       "      <td>5803.844</td>\n",
       "      <td>7269.036</td>\n",
       "    </tr>\n",
       "    <tr>\n",
       "      <th>std</th>\n",
       "      <td>18378.600</td>\n",
       "      <td>4.670</td>\n",
       "      <td>25873.996</td>\n",
       "      <td>877.350</td>\n",
       "      <td>10765.232</td>\n",
       "    </tr>\n",
       "    <tr>\n",
       "      <th>min</th>\n",
       "      <td>1234000000000001.000</td>\n",
       "      <td>0.000</td>\n",
       "      <td>50.000</td>\n",
       "      <td>742.000</td>\n",
       "      <td>0.000</td>\n",
       "    </tr>\n",
       "    <tr>\n",
       "      <th>25%</th>\n",
       "      <td>1234000000007268.000</td>\n",
       "      <td>11.000</td>\n",
       "      <td>250.000</td>\n",
       "      <td>5411.000</td>\n",
       "      <td>0.000</td>\n",
       "    </tr>\n",
       "    <tr>\n",
       "      <th>50%</th>\n",
       "      <td>1234000000014186.000</td>\n",
       "      <td>15.000</td>\n",
       "      <td>450.000</td>\n",
       "      <td>5631.000</td>\n",
       "      <td>0.000</td>\n",
       "    </tr>\n",
       "    <tr>\n",
       "      <th>75%</th>\n",
       "      <td>1234000000021106.000</td>\n",
       "      <td>18.000</td>\n",
       "      <td>1000.000</td>\n",
       "      <td>6011.000</td>\n",
       "      <td>14070.000</td>\n",
       "    </tr>\n",
       "    <tr>\n",
       "      <th>max</th>\n",
       "      <td>1234000000028172.000</td>\n",
       "      <td>23.000</td>\n",
       "      <td>19201000.000</td>\n",
       "      <td>9405.000</td>\n",
       "      <td>28728.000</td>\n",
       "    </tr>\n",
       "  </tbody>\n",
       "</table>\n",
       "</div>"
      ],
      "text/plain": [
       "                   card_no   txn_hour   txn_amount  mer_cat_code     mer_id\n",
       "count           893761.000 884013.000   893761.000    884013.000 893761.000\n",
       "mean  1234000000030626.250     14.466     1694.535      5803.844   7269.036\n",
       "std              18378.600      4.670    25873.996       877.350  10765.232\n",
       "min   1234000000000001.000      0.000       50.000       742.000      0.000\n",
       "25%   1234000000007268.000     11.000      250.000      5411.000      0.000\n",
       "50%   1234000000014186.000     15.000      450.000      5631.000      0.000\n",
       "75%   1234000000021106.000     18.000     1000.000      6011.000  14070.000\n",
       "max   1234000000028172.000     23.000 19201000.000      9405.000  28728.000"
      ]
     },
     "execution_count": 38,
     "metadata": {},
     "output_type": "execute_result"
    }
   ],
   "source": [
    "print('credit_card_txn shape =', credit_card_txn.shape, '\\n')\n",
    "credit_card_txn.info()\n",
    "credit_card_txn.describe()"
   ]
  },
  {
   "cell_type": "code",
   "execution_count": 39,
   "metadata": {
    "ExecuteTime": {
     "end_time": "2017-07-29T06:05:59.063457Z",
     "start_time": "2017-07-29T06:05:58.922458Z"
    }
   },
   "outputs": [
    {
     "name": "stdout",
     "output_type": "stream",
     "text": [
      "Dropped na shape = (884013, 6) \n",
      "\n"
     ]
    },
    {
     "data": {
      "text/html": [
       "<div>\n",
       "<style>\n",
       "    .dataframe thead tr:only-child th {\n",
       "        text-align: right;\n",
       "    }\n",
       "\n",
       "    .dataframe thead th {\n",
       "        text-align: left;\n",
       "    }\n",
       "\n",
       "    .dataframe tbody tr th {\n",
       "        vertical-align: top;\n",
       "    }\n",
       "</style>\n",
       "<table border=\"1\" class=\"dataframe\">\n",
       "  <thead>\n",
       "    <tr style=\"text-align: right;\">\n",
       "      <th></th>\n",
       "      <th>card_no</th>\n",
       "      <th>txn_date</th>\n",
       "      <th>txn_hour</th>\n",
       "      <th>txn_amount</th>\n",
       "      <th>mer_cat_code</th>\n",
       "      <th>mer_id</th>\n",
       "    </tr>\n",
       "  </thead>\n",
       "  <tbody>\n",
       "    <tr>\n",
       "      <th>695234</th>\n",
       "      <td>1234000000021149</td>\n",
       "      <td>2016-02-11 00:00:00</td>\n",
       "      <td>6.000</td>\n",
       "      <td>200.000</td>\n",
       "      <td>4812.000</td>\n",
       "      <td>16783</td>\n",
       "    </tr>\n",
       "    <tr>\n",
       "      <th>205598</th>\n",
       "      <td>1234000000007688</td>\n",
       "      <td>2016-04-12 00:00:00</td>\n",
       "      <td>16.000</td>\n",
       "      <td>400.000</td>\n",
       "      <td>5541.000</td>\n",
       "      <td>0</td>\n",
       "    </tr>\n",
       "    <tr>\n",
       "      <th>94864</th>\n",
       "      <td>1234000000002269</td>\n",
       "      <td>2016-05-06 00:00:00</td>\n",
       "      <td>23.000</td>\n",
       "      <td>50.000</td>\n",
       "      <td>5735.000</td>\n",
       "      <td>0</td>\n",
       "    </tr>\n",
       "    <tr>\n",
       "      <th>270078</th>\n",
       "      <td>1234000000001319</td>\n",
       "      <td>2016-07-09 00:00:00</td>\n",
       "      <td>15.000</td>\n",
       "      <td>50.000</td>\n",
       "      <td>5735.000</td>\n",
       "      <td>0</td>\n",
       "    </tr>\n",
       "    <tr>\n",
       "      <th>250851</th>\n",
       "      <td>1234000000025961</td>\n",
       "      <td>2016-04-28 00:00:00</td>\n",
       "      <td>18.000</td>\n",
       "      <td>200.000</td>\n",
       "      <td>5541.000</td>\n",
       "      <td>0</td>\n",
       "    </tr>\n",
       "  </tbody>\n",
       "</table>\n",
       "</div>"
      ],
      "text/plain": [
       "                 card_no             txn_date  txn_hour  txn_amount  \\\n",
       "695234  1234000000021149  2016-02-11 00:00:00     6.000     200.000   \n",
       "205598  1234000000007688  2016-04-12 00:00:00    16.000     400.000   \n",
       "94864   1234000000002269  2016-05-06 00:00:00    23.000      50.000   \n",
       "270078  1234000000001319  2016-07-09 00:00:00    15.000      50.000   \n",
       "250851  1234000000025961  2016-04-28 00:00:00    18.000     200.000   \n",
       "\n",
       "        mer_cat_code  mer_id  \n",
       "695234      4812.000   16783  \n",
       "205598      5541.000       0  \n",
       "94864       5735.000       0  \n",
       "270078      5735.000       0  \n",
       "250851      5541.000       0  "
      ]
     },
     "execution_count": 39,
     "metadata": {},
     "output_type": "execute_result"
    }
   ],
   "source": [
    "credit_card_txn = credit_card_txn.dropna(axis=0, how='any')\n",
    "print(\"Dropped na shape =\", credit_card_txn.shape, '\\n')\n",
    "\n",
    "credit_card_txn.sample(5)"
   ]
  },
  {
   "cell_type": "code",
   "execution_count": 40,
   "metadata": {
    "ExecuteTime": {
     "end_time": "2017-07-29T06:06:41.127406Z",
     "start_time": "2017-07-29T06:06:40.923908Z"
    }
   },
   "outputs": [
    {
     "data": {
      "text/html": [
       "<div>\n",
       "<style>\n",
       "    .dataframe thead tr:only-child th {\n",
       "        text-align: right;\n",
       "    }\n",
       "\n",
       "    .dataframe thead th {\n",
       "        text-align: left;\n",
       "    }\n",
       "\n",
       "    .dataframe tbody tr th {\n",
       "        vertical-align: top;\n",
       "    }\n",
       "</style>\n",
       "<table border=\"1\" class=\"dataframe\">\n",
       "  <thead>\n",
       "    <tr style=\"text-align: right;\">\n",
       "      <th></th>\n",
       "      <th>card_no</th>\n",
       "      <th>txn_date</th>\n",
       "      <th>txn_hour</th>\n",
       "      <th>txn_amount</th>\n",
       "      <th>mer_cat_code</th>\n",
       "      <th>mer_id</th>\n",
       "      <th>irs_description</th>\n",
       "      <th>type_id</th>\n",
       "    </tr>\n",
       "  </thead>\n",
       "  <tbody>\n",
       "    <tr>\n",
       "      <th>0</th>\n",
       "      <td>1234000000009154</td>\n",
       "      <td>2016-12-07 00:00:00</td>\n",
       "      <td>22.000</td>\n",
       "      <td>1550.000</td>\n",
       "      <td>4511.000</td>\n",
       "      <td>0</td>\n",
       "      <td>Airlines, Air Carriers</td>\n",
       "      <td>30</td>\n",
       "    </tr>\n",
       "    <tr>\n",
       "      <th>1</th>\n",
       "      <td>1234000000017165</td>\n",
       "      <td>2016-12-07 00:00:00</td>\n",
       "      <td>22.000</td>\n",
       "      <td>250.000</td>\n",
       "      <td>6011.000</td>\n",
       "      <td>0</td>\n",
       "      <td>Automated Cash Disburse</td>\n",
       "      <td>170</td>\n",
       "    </tr>\n",
       "    <tr>\n",
       "      <th>2</th>\n",
       "      <td>1234000000000768</td>\n",
       "      <td>2016-12-07 00:00:00</td>\n",
       "      <td>22.000</td>\n",
       "      <td>250.000</td>\n",
       "      <td>8398.000</td>\n",
       "      <td>0</td>\n",
       "      <td>Charitable and Social Service Organizations - ...</td>\n",
       "      <td>268</td>\n",
       "    </tr>\n",
       "    <tr>\n",
       "      <th>3</th>\n",
       "      <td>1234000000018716</td>\n",
       "      <td>2016-12-07 00:00:00</td>\n",
       "      <td>22.000</td>\n",
       "      <td>50.000</td>\n",
       "      <td>5735.000</td>\n",
       "      <td>0</td>\n",
       "      <td>Record Stores</td>\n",
       "      <td>120</td>\n",
       "    </tr>\n",
       "    <tr>\n",
       "      <th>4</th>\n",
       "      <td>1234000000016652</td>\n",
       "      <td>2016-12-07 00:00:00</td>\n",
       "      <td>22.000</td>\n",
       "      <td>50.000</td>\n",
       "      <td>5735.000</td>\n",
       "      <td>0</td>\n",
       "      <td>Record Stores</td>\n",
       "      <td>120</td>\n",
       "    </tr>\n",
       "  </tbody>\n",
       "</table>\n",
       "</div>"
      ],
      "text/plain": [
       "            card_no             txn_date  txn_hour  txn_amount mer_cat_code  \\\n",
       "0  1234000000009154  2016-12-07 00:00:00    22.000    1550.000     4511.000   \n",
       "1  1234000000017165  2016-12-07 00:00:00    22.000     250.000     6011.000   \n",
       "2  1234000000000768  2016-12-07 00:00:00    22.000     250.000     8398.000   \n",
       "3  1234000000018716  2016-12-07 00:00:00    22.000      50.000     5735.000   \n",
       "4  1234000000016652  2016-12-07 00:00:00    22.000      50.000     5735.000   \n",
       "\n",
       "   mer_id                                    irs_description  type_id  \n",
       "0       0                             Airlines, Air Carriers       30  \n",
       "1       0                            Automated Cash Disburse      170  \n",
       "2       0  Charitable and Social Service Organizations - ...      268  \n",
       "3       0                                      Record Stores      120  \n",
       "4       0                                      Record Stores      120  "
      ]
     },
     "execution_count": 40,
     "metadata": {},
     "output_type": "execute_result"
    }
   ],
   "source": [
    "mcc_codes = pd.read_csv('mcc_codes.csv')\n",
    "credit_card_txn = credit_card_txn.join(mcc_codes[['mcc', 'irs_description', 'type_id']].set_index('mcc'), on='mer_cat_code')\n",
    "credit_card_txn = credit_card_txn.dropna(axis=0, how='any')\n",
    "credit_card_txn.type_id = credit_card_txn.type_id.astype(int)\n",
    "credit_card_txn.head()"
   ]
  },
  {
   "cell_type": "code",
   "execution_count": 41,
   "metadata": {
    "ExecuteTime": {
     "end_time": "2017-07-29T06:06:56.121122Z",
     "start_time": "2017-07-29T06:06:56.083623Z"
    },
    "collapsed": true
   },
   "outputs": [],
   "source": [
    "# credit_card_txn.sample(500)"
   ]
  },
  {
   "cell_type": "code",
   "execution_count": 42,
   "metadata": {
    "ExecuteTime": {
     "end_time": "2017-07-29T07:36:18.321656Z",
     "start_time": "2017-07-29T07:36:18.310156Z"
    }
   },
   "outputs": [
    {
     "data": {
      "text/html": [
       "<div>\n",
       "<style>\n",
       "    .dataframe thead tr:only-child th {\n",
       "        text-align: right;\n",
       "    }\n",
       "\n",
       "    .dataframe thead th {\n",
       "        text-align: left;\n",
       "    }\n",
       "\n",
       "    .dataframe tbody tr th {\n",
       "        vertical-align: top;\n",
       "    }\n",
       "</style>\n",
       "<table border=\"1\" class=\"dataframe\">\n",
       "  <thead>\n",
       "    <tr style=\"text-align: right;\">\n",
       "      <th></th>\n",
       "      <th>card_no</th>\n",
       "      <th>txn_amount</th>\n",
       "      <th>type_id</th>\n",
       "    </tr>\n",
       "  </thead>\n",
       "  <tbody>\n",
       "    <tr>\n",
       "      <th>0</th>\n",
       "      <td>1234000000009154</td>\n",
       "      <td>1550.000</td>\n",
       "      <td>30</td>\n",
       "    </tr>\n",
       "    <tr>\n",
       "      <th>1</th>\n",
       "      <td>1234000000017165</td>\n",
       "      <td>250.000</td>\n",
       "      <td>170</td>\n",
       "    </tr>\n",
       "    <tr>\n",
       "      <th>2</th>\n",
       "      <td>1234000000000768</td>\n",
       "      <td>250.000</td>\n",
       "      <td>268</td>\n",
       "    </tr>\n",
       "    <tr>\n",
       "      <th>3</th>\n",
       "      <td>1234000000018716</td>\n",
       "      <td>50.000</td>\n",
       "      <td>120</td>\n",
       "    </tr>\n",
       "    <tr>\n",
       "      <th>4</th>\n",
       "      <td>1234000000016652</td>\n",
       "      <td>50.000</td>\n",
       "      <td>120</td>\n",
       "    </tr>\n",
       "  </tbody>\n",
       "</table>\n",
       "</div>"
      ],
      "text/plain": [
       "            card_no  txn_amount  type_id\n",
       "0  1234000000009154    1550.000       30\n",
       "1  1234000000017165     250.000      170\n",
       "2  1234000000000768     250.000      268\n",
       "3  1234000000018716      50.000      120\n",
       "4  1234000000016652      50.000      120"
      ]
     },
     "execution_count": 42,
     "metadata": {},
     "output_type": "execute_result"
    }
   ],
   "source": [
    "data_features = credit_card_txn\n",
    "data_features = data_features.drop(['txn_date', 'txn_hour', 'mer_cat_code', 'mer_id', 'irs_description'], axis=1)\n",
    "data_features.head()"
   ]
  },
  {
   "cell_type": "code",
   "execution_count": 43,
   "metadata": {},
   "outputs": [
    {
     "data": {
      "text/html": [
       "<div>\n",
       "<style>\n",
       "    .dataframe thead tr:only-child th {\n",
       "        text-align: right;\n",
       "    }\n",
       "\n",
       "    .dataframe thead th {\n",
       "        text-align: left;\n",
       "    }\n",
       "\n",
       "    .dataframe tbody tr th {\n",
       "        vertical-align: top;\n",
       "    }\n",
       "</style>\n",
       "<table border=\"1\" class=\"dataframe\">\n",
       "  <thead>\n",
       "    <tr style=\"text-align: right;\">\n",
       "      <th></th>\n",
       "      <th>card_no</th>\n",
       "      <th>gender</th>\n",
       "      <th>0</th>\n",
       "      <th>1</th>\n",
       "    </tr>\n",
       "  </thead>\n",
       "  <tbody>\n",
       "    <tr>\n",
       "      <th>0</th>\n",
       "      <td>1234000000000000</td>\n",
       "      <td>1</td>\n",
       "      <td>3.000</td>\n",
       "      <td>4.000</td>\n",
       "    </tr>\n",
       "    <tr>\n",
       "      <th>1</th>\n",
       "      <td>1234000000000010</td>\n",
       "      <td>1</td>\n",
       "      <td>5.000</td>\n",
       "      <td>3.000</td>\n",
       "    </tr>\n",
       "    <tr>\n",
       "      <th>2</th>\n",
       "      <td>1234000000000020</td>\n",
       "      <td>1</td>\n",
       "      <td>3.000</td>\n",
       "      <td>2.000</td>\n",
       "    </tr>\n",
       "    <tr>\n",
       "      <th>3</th>\n",
       "      <td>1234000000000030</td>\n",
       "      <td>1</td>\n",
       "      <td>5.000</td>\n",
       "      <td>3.000</td>\n",
       "    </tr>\n",
       "    <tr>\n",
       "      <th>4</th>\n",
       "      <td>1234000000000040</td>\n",
       "      <td>1</td>\n",
       "      <td>4.000</td>\n",
       "      <td>4.000</td>\n",
       "    </tr>\n",
       "  </tbody>\n",
       "</table>\n",
       "</div>"
      ],
      "text/plain": [
       "            card_no  gender     0     1\n",
       "0  1234000000000000       1 3.000 4.000\n",
       "1  1234000000000010       1 5.000 3.000\n",
       "2  1234000000000020       1 3.000 2.000\n",
       "3  1234000000000030       1 5.000 3.000\n",
       "4  1234000000000040       1 4.000 4.000"
      ]
     },
     "execution_count": 43,
     "metadata": {},
     "output_type": "execute_result"
    }
   ],
   "source": [
    "data_training.shape\n",
    "\n",
    "data_training_cleaned = pd.read_csv('tj_05_training_cleaned.csv')\n",
    "data_training_cleaned.head()"
   ]
  },
  {
   "cell_type": "code",
   "execution_count": 44,
   "metadata": {},
   "outputs": [
    {
     "data": {
      "text/html": [
       "<div>\n",
       "<style>\n",
       "    .dataframe thead tr:only-child th {\n",
       "        text-align: right;\n",
       "    }\n",
       "\n",
       "    .dataframe thead th {\n",
       "        text-align: left;\n",
       "    }\n",
       "\n",
       "    .dataframe tbody tr th {\n",
       "        vertical-align: top;\n",
       "    }\n",
       "</style>\n",
       "<table border=\"1\" class=\"dataframe\">\n",
       "  <thead>\n",
       "    <tr style=\"text-align: right;\">\n",
       "      <th></th>\n",
       "      <th>card_no</th>\n",
       "      <th>gender</th>\n",
       "      <th>txn_amount</th>\n",
       "      <th>type_id</th>\n",
       "    </tr>\n",
       "  </thead>\n",
       "  <tbody>\n",
       "    <tr>\n",
       "      <th>0</th>\n",
       "      <td>1234000000000792</td>\n",
       "      <td>1</td>\n",
       "      <td>600.000</td>\n",
       "      <td>91.000</td>\n",
       "    </tr>\n",
       "    <tr>\n",
       "      <th>0</th>\n",
       "      <td>1234000000000792</td>\n",
       "      <td>1</td>\n",
       "      <td>7750.000</td>\n",
       "      <td>257.000</td>\n",
       "    </tr>\n",
       "    <tr>\n",
       "      <th>0</th>\n",
       "      <td>1234000000000792</td>\n",
       "      <td>1</td>\n",
       "      <td>2000.000</td>\n",
       "      <td>36.000</td>\n",
       "    </tr>\n",
       "    <tr>\n",
       "      <th>0</th>\n",
       "      <td>1234000000000792</td>\n",
       "      <td>1</td>\n",
       "      <td>500.000</td>\n",
       "      <td>91.000</td>\n",
       "    </tr>\n",
       "    <tr>\n",
       "      <th>0</th>\n",
       "      <td>1234000000000792</td>\n",
       "      <td>1</td>\n",
       "      <td>500.000</td>\n",
       "      <td>91.000</td>\n",
       "    </tr>\n",
       "  </tbody>\n",
       "</table>\n",
       "</div>"
      ],
      "text/plain": [
       "            card_no  gender  txn_amount  type_id\n",
       "0  1234000000000792       1     600.000   91.000\n",
       "0  1234000000000792       1    7750.000  257.000\n",
       "0  1234000000000792       1    2000.000   36.000\n",
       "0  1234000000000792       1     500.000   91.000\n",
       "0  1234000000000792       1     500.000   91.000"
      ]
     },
     "execution_count": 44,
     "metadata": {},
     "output_type": "execute_result"
    }
   ],
   "source": [
    "data_for_model = data_training.join(data_features.set_index('card_no'), on='card_no')\n",
    "data_for_model = data_for_model.dropna(axis=0, how='any')\n",
    "data_for_model.head()"
   ]
  },
  {
   "cell_type": "code",
   "execution_count": 61,
   "metadata": {},
   "outputs": [
    {
     "name": "stdout",
     "output_type": "stream",
     "text": [
      "['txn_amount', 'type_id']\n"
     ]
    }
   ],
   "source": [
    "from keras.models import Sequential\n",
    "from keras.layers import Dense, Activation\n",
    "from sklearn.cross_validation import  train_test_split\n",
    "from matplotlib import pyplot\n",
    "from sklearn import metrics\n",
    "from sklearn.cross_validation import KFold, cross_val_score\n",
    "from xgboost import XGBClassifier\n",
    "from xgboost import plot_importance\n",
    "from xgboost import plot_tree\n",
    "from time import time\n",
    "from sklearn.preprocessing import StandardScaler\n",
    "\n",
    "dataset = data_for_model\n",
    "dataset = dataset.drop(\"card_no\",1)\n",
    "# dataset.head()\n",
    "features = list(dataset.columns[1:])\n",
    "print(features)"
   ]
  },
  {
   "cell_type": "code",
   "execution_count": 59,
   "metadata": {},
   "outputs": [
    {
     "name": "stdout",
     "output_type": "stream",
     "text": [
      "accuracy 0.567601144407\n"
     ]
    }
   ],
   "source": [
    "XGBmodel = XGBClassifier()\n",
    "X_train, X_test, y_train, y_test = train_test_split(dataset[features], dataset['gender'].values, test_size=0.30, random_state=42)\n",
    "XGBmodel.fit(X_train,y_train)\n",
    "predictions = XGBmodel.predict(X_test)     \n",
    "\n",
    "print (\"accuracy\" , metrics.accuracy_score(y_test, predictions))"
   ]
  },
  {
   "cell_type": "code",
   "execution_count": 76,
   "metadata": {},
   "outputs": [],
   "source": [
    "model = Sequential()\n",
    "# model.add(Dense(input_shape=2, activation='relu'))\n",
    "model.add(Dense(12, input_dim=2, kernel_initializer ='uniform', activation='relu'))\n",
    "model.add(Activation(\"softmax\"))\n",
    "\n",
    "model.compile(loss='sparse_categorical_crossentropy', optimizer='sgd', metrics=['accuracy'])"
   ]
  },
  {
   "cell_type": "code",
   "execution_count": 77,
   "metadata": {},
   "outputs": [
    {
     "name": "stdout",
     "output_type": "stream",
     "text": [
      "Epoch 1/10\n",
      "514618/514618 [==============================] - 46s - loss: 0.7866 - acc: 0.5259    \n",
      "Epoch 2/10\n",
      "514618/514618 [==============================] - 51s - loss: 0.7010 - acc: 0.5263    \n",
      "Epoch 3/10\n",
      "514618/514618 [==============================] - 45s - loss: 0.6971 - acc: 0.5263    \n",
      "Epoch 4/10\n",
      "514618/514618 [==============================] - 49s - loss: 0.6956 - acc: 0.5263    \n",
      "Epoch 5/10\n",
      "514618/514618 [==============================] - 44s - loss: 0.6948 - acc: 0.5262    \n",
      "Epoch 6/10\n",
      "514618/514618 [==============================] - 49s - loss: 0.6942 - acc: 0.5263    \n",
      "Epoch 7/10\n",
      "514618/514618 [==============================] - 50s - loss: 0.6939 - acc: 0.5261    \n",
      "Epoch 8/10\n",
      "514618/514618 [==============================] - 38s - loss: 0.6936 - acc: 0.5261    \n",
      "Epoch 9/10\n",
      "514618/514618 [==============================] - 41s - loss: 0.6934 - acc: 0.5262    - ET\n",
      "Epoch 10/10\n",
      "514618/514618 [==============================] - 54s - loss: 0.6932 - acc: 0.5263    \n"
     ]
    },
    {
     "data": {
      "text/plain": [
       "<keras.callbacks.History at 0x1df979b83c8>"
      ]
     },
     "execution_count": 77,
     "metadata": {},
     "output_type": "execute_result"
    }
   ],
   "source": [
    "scaler = StandardScaler()\n",
    "model.fit(scaler.fit_transform(X_train.values), y_train)"
   ]
  },
  {
   "cell_type": "code",
   "execution_count": 78,
   "metadata": {},
   "outputs": [
    {
     "name": "stdout",
     "output_type": "stream",
     "text": [
      "219744/220551 [============================>.] - ETA: 0s\n",
      "\n",
      "accuracy 0.527243131974\n"
     ]
    }
   ],
   "source": [
    "y_prediction = model.predict_classes(scaler.transform(X_test.values))\n",
    "print (\"\\n\\naccuracy\" , np.sum(y_prediction == y_test) / float(len(y_test)))"
   ]
  },
  {
   "cell_type": "code",
   "execution_count": 107,
   "metadata": {},
   "outputs": [],
   "source": [
    "model = Sequential()\n",
    "model.add(Dense(3, input_dim=2))\n",
    "# model.add(Dense(3, input_dim=2))\n",
    "# model.add(Dense(3, input_dim=2))\n",
    "model.add(Activation(\"softmax\"))\n",
    "\n",
    "model.compile(loss='sparse_categorical_crossentropy', optimizer='sgd', metrics=['accuracy'])"
   ]
  },
  {
   "cell_type": "code",
   "execution_count": null,
   "metadata": {},
   "outputs": [
    {
     "name": "stdout",
     "output_type": "stream",
     "text": [
      "Epoch 1/10\n",
      "514618/514618 [==============================] - 59s - loss: 0.7132 - acc: 0.5248    \n",
      "Epoch 2/10\n",
      "157824/514618 [========>.....................] - ETA: 39s - loss: 0.6957 - acc: 0.5237"
     ]
    }
   ],
   "source": [
    "model.fit(scaler.fit_transform(X_train.values), y_train)"
   ]
  },
  {
   "cell_type": "code",
   "execution_count": 87,
   "metadata": {},
   "outputs": [
    {
     "ename": "TypeError",
     "evalue": "join() missing 1 required positional argument: 'other'",
     "output_type": "error",
     "traceback": [
      "\u001b[1;31m---------------------------------------------------------------------------\u001b[0m",
      "\u001b[1;31mTypeError\u001b[0m                                 Traceback (most recent call last)",
      "\u001b[1;32m<ipython-input-87-caa226ae41ea>\u001b[0m in \u001b[0;36m<module>\u001b[1;34m()\u001b[0m\n\u001b[1;32m----> 1\u001b[1;33m \u001b[0mdata_test\u001b[0m\u001b[1;33m.\u001b[0m\u001b[0mjoin\u001b[0m\u001b[1;33m(\u001b[0m\u001b[1;33m)\u001b[0m\u001b[1;33m\u001b[0m\u001b[0m\n\u001b[0m",
      "\u001b[1;31mTypeError\u001b[0m: join() missing 1 required positional argument: 'other'"
     ]
    }
   ],
   "source": [
    "data_test.join()"
   ]
  },
  {
   "cell_type": "code",
   "execution_count": 82,
   "metadata": {},
   "outputs": [
    {
     "name": "stderr",
     "output_type": "stream",
     "text": [
      "C:\\Users\\Watchanan\\Anaconda3\\lib\\site-packages\\sklearn\\utils\\validation.py:429: DataConversionWarning: Data with input dtype int64 was converted to float64 by StandardScaler.\n",
      "  warnings.warn(msg, _DataConversionWarning)\n"
     ]
    },
    {
     "ename": "ValueError",
     "evalue": "non-broadcastable output operand with shape (4623,1) doesn't match the broadcast shape (4623,2)",
     "output_type": "error",
     "traceback": [
      "\u001b[1;31m---------------------------------------------------------------------------\u001b[0m",
      "\u001b[1;31mValueError\u001b[0m                                Traceback (most recent call last)",
      "\u001b[1;32m<ipython-input-82-9099dad4388c>\u001b[0m in \u001b[0;36m<module>\u001b[1;34m()\u001b[0m\n\u001b[1;32m----> 1\u001b[1;33m \u001b[0mdata_test_prediction\u001b[0m \u001b[1;33m=\u001b[0m \u001b[0mmodel\u001b[0m\u001b[1;33m.\u001b[0m\u001b[0mpredict_classes\u001b[0m\u001b[1;33m(\u001b[0m\u001b[0mscaler\u001b[0m\u001b[1;33m.\u001b[0m\u001b[0mtransform\u001b[0m\u001b[1;33m(\u001b[0m\u001b[0mdata_test\u001b[0m\u001b[1;33m.\u001b[0m\u001b[0mvalues\u001b[0m\u001b[1;33m)\u001b[0m\u001b[1;33m)\u001b[0m\u001b[1;33m\u001b[0m\u001b[0m\n\u001b[0m",
      "\u001b[1;32mC:\\Users\\Watchanan\\Anaconda3\\lib\\site-packages\\sklearn\\preprocessing\\data.py\u001b[0m in \u001b[0;36mtransform\u001b[1;34m(self, X, y, copy)\u001b[0m\n\u001b[0;32m    658\u001b[0m         \u001b[1;32melse\u001b[0m\u001b[1;33m:\u001b[0m\u001b[1;33m\u001b[0m\u001b[0m\n\u001b[0;32m    659\u001b[0m             \u001b[1;32mif\u001b[0m \u001b[0mself\u001b[0m\u001b[1;33m.\u001b[0m\u001b[0mwith_mean\u001b[0m\u001b[1;33m:\u001b[0m\u001b[1;33m\u001b[0m\u001b[0m\n\u001b[1;32m--> 660\u001b[1;33m                 \u001b[0mX\u001b[0m \u001b[1;33m-=\u001b[0m \u001b[0mself\u001b[0m\u001b[1;33m.\u001b[0m\u001b[0mmean_\u001b[0m\u001b[1;33m\u001b[0m\u001b[0m\n\u001b[0m\u001b[0;32m    661\u001b[0m             \u001b[1;32mif\u001b[0m \u001b[0mself\u001b[0m\u001b[1;33m.\u001b[0m\u001b[0mwith_std\u001b[0m\u001b[1;33m:\u001b[0m\u001b[1;33m\u001b[0m\u001b[0m\n\u001b[0;32m    662\u001b[0m                 \u001b[0mX\u001b[0m \u001b[1;33m/=\u001b[0m \u001b[0mself\u001b[0m\u001b[1;33m.\u001b[0m\u001b[0mscale_\u001b[0m\u001b[1;33m\u001b[0m\u001b[0m\n",
      "\u001b[1;31mValueError\u001b[0m: non-broadcastable output operand with shape (4623,1) doesn't match the broadcast shape (4623,2)"
     ]
    }
   ],
   "source": [
    "\n",
    "data_test_prediction = model.predict_classes(scaler.transform(data_test.values))"
   ]
  }
 ],
 "metadata": {
  "kernelspec": {
   "display_name": "Python 3",
   "language": "python",
   "name": "python3"
  },
  "language_info": {
   "codemirror_mode": {
    "name": "ipython",
    "version": 3
   },
   "file_extension": ".py",
   "mimetype": "text/x-python",
   "name": "python",
   "nbconvert_exporter": "python",
   "pygments_lexer": "ipython3",
   "version": "3.6.1"
  }
 },
 "nbformat": 4,
 "nbformat_minor": 2
}
